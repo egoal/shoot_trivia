{
 "cells": [
  {
   "cell_type": "code",
   "execution_count": 1,
   "metadata": {},
   "outputs": [],
   "source": [
    "import numpy as np\n",
    "import scipy.linalg as la\n",
    "import matplotlib.pyplot as plt\n",
    "\n",
    "plt.style.use('ggplot')"
   ]
  },
  {
   "cell_type": "code",
   "execution_count": 2,
   "metadata": {},
   "outputs": [],
   "source": [
    "import itertools as it\n",
    "import fn\n",
    "import math\n",
    "from functools import reduce"
   ]
  },
  {
   "cell_type": "code",
   "execution_count": 36,
   "metadata": {},
   "outputs": [],
   "source": [
    "def fab(n):\n",
    "    if n==0:\n",
    "        return 1\n",
    "    if n==1:\n",
    "        return 2\n",
    "    return fab(n-1) + fab(n-2)\n",
    "\n",
    "def fab_seq():\n",
    "    t1, t2 = 1, 2\n",
    "    yield t1\n",
    "    yield t2\n",
    "    while True:\n",
    "        t = t1+ t2\n",
    "        yield t\n",
    "        t1 = t2\n",
    "        t2 = t"
   ]
  },
  {
   "cell_type": "code",
   "execution_count": 40,
   "metadata": {},
   "outputs": [],
   "source": [
    "def is_prime(n):\n",
    "    return all(map(lambda x: n%x!=0, range(2, int(n**0.5)+1)))"
   ]
  },
  {
   "cell_type": "code",
   "execution_count": 55,
   "metadata": {},
   "outputs": [],
   "source": [
    "def is_palindrome(n):\n",
    "    s = str(n)\n",
    "    N = len(s)\n",
    "    return all(map(lambda x: s[x]== s[N-1-x], range(N// 2)))"
   ]
  },
  {
   "cell_type": "code",
   "execution_count": 119,
   "metadata": {},
   "outputs": [],
   "source": [
    "def enum_range(low, high= None):\n",
    "    i = low\n",
    "    while high is None or i< high:\n",
    "        yield i\n",
    "        i += 1"
   ]
  },
  {
   "cell_type": "code",
   "execution_count": 38,
   "metadata": {},
   "outputs": [],
   "source": [
    "info = '''\n",
    "75\n",
    "95 64\n",
    "17 47 82\n",
    "18 35 87 10\n",
    "20 04 82 47 65\n",
    "19 01 23 75 03 34\n",
    "88 02 77 73 07 63 67\n",
    "99 65 04 28 06 16 70 92\n",
    "41 41 26 56 83 40 80 70 33\n",
    "41 48 72 33 47 32 37 16 94 29\n",
    "53 71 44 65 25 43 91 52 97 51 14\n",
    "70 11 33 28 77 73 17 78 39 68 17 57\n",
    "91 71 52 38 17 14 91 43 58 50 27 29 48\n",
    "63 66 04 68 89 53 67 30 73 16 69 87 40 31\n",
    "04 62 98 27 23 09 70 98 73 93 38 53 60 04 23\n",
    "'''"
   ]
  },
  {
   "cell_type": "code",
   "execution_count": 39,
   "metadata": {},
   "outputs": [],
   "source": [
    "def to_list(line):\n",
    "    return list(map(int, line.strip().split()))\n",
    "\n",
    "pyramid = list(map(to_list, info.strip().split('\\n')))"
   ]
  },
  {
   "cell_type": "code",
   "execution_count": 40,
   "metadata": {},
   "outputs": [
    {
     "name": "stdout",
     "output_type": "stream",
     "text": [
      "[75]\n",
      "[95, 64]\n",
      "[17, 47, 82]\n",
      "[18, 35, 87, 10]\n",
      "[20, 4, 82, 47, 65]\n",
      "[19, 1, 23, 75, 3, 34]\n",
      "[88, 2, 77, 73, 7, 63, 67]\n",
      "[99, 65, 4, 28, 6, 16, 70, 92]\n",
      "[41, 41, 26, 56, 83, 40, 80, 70, 33]\n",
      "[41, 48, 72, 33, 47, 32, 37, 16, 94, 29]\n",
      "[53, 71, 44, 65, 25, 43, 91, 52, 97, 51, 14]\n",
      "[70, 11, 33, 28, 77, 73, 17, 78, 39, 68, 17, 57]\n",
      "[91, 71, 52, 38, 17, 14, 91, 43, 58, 50, 27, 29, 48]\n",
      "[63, 66, 4, 68, 89, 53, 67, 30, 73, 16, 69, 87, 40, 31]\n",
      "[4, 62, 98, 27, 23, 9, 70, 98, 73, 93, 38, 53, 60, 4, 23]\n"
     ]
    }
   ],
   "source": [
    "def print_pyramid(py):\n",
    "    for line in py:\n",
    "        print(line)\n",
    "        \n",
    "print_pyramid(pyramid)"
   ]
  },
  {
   "cell_type": "code",
   "execution_count": 41,
   "metadata": {},
   "outputs": [],
   "source": [
    "def path_sum(py):\n",
    "    N = len(py)\n",
    "    if N== 1:\n",
    "        return py[0][0]\n",
    "    \n",
    "    for i in range(N-1):\n",
    "        py[-2][i] += max(py[-1][i], py[-1][i+1])\n",
    "        \n",
    "    del py[-1]\n",
    "    \n",
    "    return path_sum(py)"
   ]
  },
  {
   "cell_type": "code",
   "execution_count": 42,
   "metadata": {},
   "outputs": [
    {
     "data": {
      "text/plain": [
       "1074"
      ]
     },
     "execution_count": 42,
     "metadata": {},
     "output_type": "execute_result"
    }
   ],
   "source": [
    "path_sum(pyramid)"
   ]
  },
  {
   "cell_type": "code",
   "execution_count": 20,
   "metadata": {},
   "outputs": [],
   "source": [
    "# 1901.01.01 to 2000.12.31, 1900.01.01 monday."
   ]
  },
  {
   "cell_type": "code",
   "execution_count": 50,
   "metadata": {},
   "outputs": [],
   "source": [
    "def count_days(year):\n",
    "    leap = (year% 400== 0) or (year% 100!= 0 and year% 4== 0)\n",
    "    return 366 if leap else 365"
   ]
  },
  {
   "cell_type": "code",
   "execution_count": 51,
   "metadata": {},
   "outputs": [
    {
     "data": {
      "text/plain": [
       "365"
      ]
     },
     "execution_count": 51,
     "metadata": {},
     "output_type": "execute_result"
    }
   ],
   "source": [
    "count_days(1900)"
   ]
  },
  {
   "cell_type": "code",
   "execution_count": 65,
   "metadata": {},
   "outputs": [
    {
     "data": {
      "text/plain": [
       "5217"
      ]
     },
     "execution_count": 65,
     "metadata": {},
     "output_type": "execute_result"
    }
   ],
   "source": [
    "sum(map(count_days, range(1901, 2001))) // 7"
   ]
  },
  {
   "cell_type": "code",
   "execution_count": 68,
   "metadata": {},
   "outputs": [
    {
     "data": {
      "text/plain": [
       "648"
      ]
     },
     "execution_count": 68,
     "metadata": {},
     "output_type": "execute_result"
    }
   ],
   "source": [
    "sum(map(int, str(math.factorial(100))))"
   ]
  },
  {
   "cell_type": "code",
   "execution_count": 99,
   "metadata": {},
   "outputs": [
    {
     "data": {
      "text/plain": [
       "64497254400"
      ]
     },
     "execution_count": 99,
     "metadata": {},
     "output_type": "execute_result"
    }
   ],
   "source": [
    "n = 13\n",
    "rows, cols = len(arr), len(arr[0])\n",
    "mul = 0\n",
    "rr, cc = -1, -1\n",
    "h = False\n",
    "\n",
    "for r in range(0, rows):\n",
    "    for c in range(0, cols- n+ 1):\n",
    "        num = reduce(lambda x, i: x* arr[r][c+ i], range(13), 1)\n",
    "        if num> mul:\n",
    "            mul = num\n",
    "            rr, cc = r, c\n",
    "            h = True\n",
    "            \n",
    "for c in range(0, cols):\n",
    "    for r in range(0, rows- n+ 1):\n",
    "        num = reduce(lambda x, i: x* arr[r+ i][c], range(13), 1)\n",
    "        if num> mul:\n",
    "            mul = num\n",
    "            rr, cc = r, c\n",
    "            h = False\n",
    "mul"
   ]
  },
  {
   "cell_type": "code",
   "execution_count": 142,
   "metadata": {},
   "outputs": [],
   "source": [
    "def count_len(n):\n",
    "    c = 1\n",
    "    while n!=1:\n",
    "        n = n// 2 if n%2==0 else (n* 3+ 1)\n",
    "        c += 1\n",
    "    return c\n",
    "\n",
    "counts = [0, 1]\n",
    "for i in range(2, 1000000):\n",
    "    c = 0\n",
    "    n = i\n",
    "    while n >= len(counts) and n!=1:\n",
    "        n = n// 2 if n%2==0 else (n* 3+ 1)\n",
    "        c += 1\n",
    "    c += counts[n]\n",
    "    counts.append(c)"
   ]
  },
  {
   "cell_type": "code",
   "execution_count": 146,
   "metadata": {},
   "outputs": [
    {
     "data": {
      "text/plain": [
       "1366"
      ]
     },
     "execution_count": 146,
     "metadata": {},
     "output_type": "execute_result"
    }
   ],
   "source": [
    "sum([int(i) for i in str(2** 1000)])"
   ]
  },
  {
   "cell_type": "code",
   "execution_count": 140,
   "metadata": {},
   "outputs": [
    {
     "data": {
      "text/plain": [
       "20"
      ]
     },
     "execution_count": 140,
     "metadata": {},
     "output_type": "execute_result"
    }
   ],
   "source": [
    "max(counts)"
   ]
  },
  {
   "cell_type": "code",
   "execution_count": 108,
   "metadata": {},
   "outputs": [
    {
     "name": "stdout",
     "output_type": "stream",
     "text": [
      "200 375 425\n",
      "375 200 425\n"
     ]
    }
   ],
   "source": [
    "for a in range(1, 500):\n",
    "    for b in range(501-a, 500):\n",
    "        c2 = a**2+ b**2\n",
    "        if c2> 250000:\n",
    "            continue\n",
    "        c = int(c2**0.5)\n",
    "        if c**2== c2 and a+ b+ c== 1000:\n",
    "            print(a, b, c)\n",
    "            break"
   ]
  },
  {
   "cell_type": "code",
   "execution_count": 155,
   "metadata": {},
   "outputs": [
    {
     "data": {
      "text/plain": [
       "987654321"
      ]
     },
     "execution_count": 155,
     "metadata": {},
     "output_type": "execute_result"
    }
   ],
   "source": [
    "' '.join(''.join([str(c) for c in sorted([int(i) for i in str(123456789)], reverse=True)]))"
   ]
  },
  {
   "cell_type": "code",
   "execution_count": 168,
   "metadata": {},
   "outputs": [
    {
     "data": {
      "text/plain": [
       "'20 8 5 14 1 18 23 8 1 12 2 1 3 15 14 19 1 20 13 9 4 14 9 7 8 20'"
      ]
     },
     "execution_count": 168,
     "metadata": {},
     "output_type": "execute_result"
    }
   ],
   "source": [
    "a = \"The narwhal bacons at midnight.\"\n",
    "\n",
    "' '.join(map(lambda c: str(ord(c)-96), filter(lambda c: c>='a' and c<='z', a.lower())))"
   ]
  },
  {
   "cell_type": "code",
   "execution_count": 170,
   "metadata": {},
   "outputs": [
    {
     "data": {
      "text/plain": [
       "\u001b[0;31mSignature:\u001b[0m \u001b[0mstr\u001b[0m\u001b[0;34m.\u001b[0m\u001b[0misalpha\u001b[0m\u001b[0;34m(\u001b[0m\u001b[0mself\u001b[0m\u001b[0;34m,\u001b[0m \u001b[0;34m/\u001b[0m\u001b[0;34m)\u001b[0m\u001b[0;34m\u001b[0m\u001b[0;34m\u001b[0m\u001b[0m\n",
       "\u001b[0;31mDocstring:\u001b[0m\n",
       "Return True if the string is an alphabetic string, False otherwise.\n",
       "\n",
       "A string is alphabetic if all characters in the string are alphabetic and there\n",
       "is at least one character in the string.\n",
       "\u001b[0;31mType:\u001b[0m      method_descriptor\n"
      ]
     },
     "metadata": {},
     "output_type": "display_data"
    }
   ],
   "source": [
    "str.isalpha?"
   ]
  },
  {
   "cell_type": "code",
   "execution_count": null,
   "metadata": {},
   "outputs": [],
   "source": [
    "' '.isalpha"
   ]
  },
  {
   "cell_type": "code",
   "execution_count": 2,
   "metadata": {},
   "outputs": [],
   "source": [
    "import re"
   ]
  },
  {
   "cell_type": "code",
   "execution_count": 3,
   "metadata": {},
   "outputs": [],
   "source": [
    "line = '(-1.32197  1.04304) -- 4.72147 --> (-1.31719 -1.12984) -- 0.351608 --> (-1.32166 -1.72279) -- 5.08508 --> (0.933341  -1.7154) -- 1.45472 --> ( 0.909586 -0.509516) -- 0.663482 --> (  1.72413 -0.509567) -- 2.45486 --> (1.73177 1.05721) -- 9.32554 --> '"
   ]
  },
  {
   "cell_type": "code",
   "execution_count": 4,
   "metadata": {},
   "outputs": [
    {
     "data": {
      "text/plain": [
       "'(-1.32197  1.04304) -- 4.72147 --> (-1.31719 -1.12984) -- 0.351608 --> (-1.32166 -1.72279) -- 5.08508 --> (0.933341  -1.7154) -- 1.45472 --> ( 0.909586 -0.509516) -- 0.663482 --> (  1.72413 -0.509567) -- 2.45486 --> (1.73177 1.05721) -- 9.32554 --> '"
      ]
     },
     "execution_count": 4,
     "metadata": {},
     "output_type": "execute_result"
    }
   ],
   "source": [
    "line"
   ]
  },
  {
   "cell_type": "code",
   "execution_count": 65,
   "metadata": {},
   "outputs": [],
   "source": [
    "lst = re.findall(r'\\(.*?\\)', line)\n",
    "points = np.array([[float(s) for s in re.split('\\s+', t[1:-1].strip())] for t in lst])"
   ]
  },
  {
   "cell_type": "code",
   "execution_count": 71,
   "metadata": {},
   "outputs": [
    {
     "data": {
      "image/png": "[encoded data removed]",
      "text/plain": [
       "<Figure size 432x288 with 1 Axes>"
      ]
     },
     "metadata": {
      "needs_background": "light"
     },
     "output_type": "display_data"
    }
   ],
   "source": [
    "plt.plot(points[:, 0], points[:, 1], 'o')\n",
    "for i, p in enumerate(points):\n",
    "    plt.text(p[0], p[1], str(i))"
   ]
  },
  {
   "cell_type": "code",
   "execution_count": 76,
   "metadata": {},
   "outputs": [],
   "source": [
    "def divisors(n):\n",
    "    if n>1: \n",
    "        yield 1\n",
    "        for i in range(2, (int)(n**0.5)+ 1):\n",
    "            if n% i==0:\n",
    "                yield i\n",
    "                yield n// i"
   ]
  },
  {
   "cell_type": "code",
   "execution_count": 78,
   "metadata": {},
   "outputs": [],
   "source": [
    "sums = list(map(sum, map(divisors, range(10000))))"
   ]
  },
  {
   "cell_type": "code",
   "execution_count": 89,
   "metadata": {},
   "outputs": [],
   "source": [
    "def is_amicable(n):\n",
    "    s = sums[n]\n",
    "    return s>0 and s<10000 and sums[s]==n and n!=s"
   ]
  },
  {
   "cell_type": "code",
   "execution_count": 90,
   "metadata": {},
   "outputs": [
    {
     "data": {
      "text/plain": [
       "[220, 284, 1184, 1210, 2620, 2924, 5020, 5564, 6232, 6368]"
      ]
     },
     "execution_count": 90,
     "metadata": {},
     "output_type": "execute_result"
    }
   ],
   "source": [
    "list(filter(is_amicable, range(10000)))"
   ]
  },
  {
   "cell_type": "code",
   "execution_count": 88,
   "metadata": {},
   "outputs": [
    {
     "data": {
      "text/plain": [
       "[6, 28, 284, 220, 496, 1210, 1184, 2924, 2620, 5564, 5020, 6368, 6232, 8128]"
      ]
     },
     "execution_count": 88,
     "metadata": {},
     "output_type": "execute_result"
    }
   ],
   "source": [
    "list(map(sum, map(divisors, [6, 28, 220, 284, 496, 1184, 1210, 2620, 2924, 5020, 5564, 6232, 6368, 8128])))"
   ]
  },
  {
   "cell_type": "code",
   "execution_count": 91,
   "metadata": {},
   "outputs": [
    {
     "data": {
      "text/plain": [
       "31626"
      ]
     },
     "execution_count": 91,
     "metadata": {},
     "output_type": "execute_result"
    }
   ],
   "source": [
    "sum([220, 284, 1184, 1210, 2620, 2924, 5020, 5564, 6232, 6368])"
   ]
  },
  {
   "cell_type": "code",
   "execution_count": null,
   "metadata": {},
   "outputs": [],
   "source": []
  }
 ],
 "metadata": {
  "kernelspec": {
   "display_name": "Python 3",
   "language": "python",
   "name": "python3"
  },
  "language_info": {
   "codemirror_mode": {
    "name": "ipython",
    "version": 3
   },
   "file_extension": ".py",
   "mimetype": "text/x-python",
   "name": "python",
   "nbconvert_exporter": "python",
   "pygments_lexer": "ipython3",
   "version": "3.7.4"
  }
 },
 "nbformat": 4,
 "nbformat_minor": 4
}
